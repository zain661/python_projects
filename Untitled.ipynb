{
 "cells": [
  {
   "cell_type": "code",
   "execution_count": 1,
   "id": "3c730425",
   "metadata": {},
   "outputs": [
    {
     "name": "stdout",
     "output_type": "stream",
     "text": [
      "Elapsed time: 0.030958 seconds\n"
     ]
    }
   ],
   "source": [
    "# Q1 \n",
    "import time\n",
    "\n",
    "def timing_decorator(func):\n",
    "    def wrapper(*args, **kwargs):\n",
    "        start_time = time.time()\n",
    "        result = func(*args, **kwargs)\n",
    "        end_time = time.time()\n",
    "        print(f\"Elapsed time: {end_time - start_time:.6f} seconds\")\n",
    "        return result\n",
    "    return wrapper\n",
    "@timing_decorator\n",
    "def waste_some_time(num_times):\n",
    "    for _ in range(num_times):\n",
    "        sum([i**2 for i in range(10000)])\n",
    "\n",
    "waste_some_time(10) "
   ]
  },
  {
   "cell_type": "code",
   "execution_count": 2,
   "id": "8b2d041f",
   "metadata": {},
   "outputs": [
    {
     "name": "stdout",
     "output_type": "stream",
     "text": [
      "Elapsed time: 2.641060 seconds\n"
     ]
    }
   ],
   "source": [
    "import timeit\n",
    "\n",
    "def waste_some_time(num_times):\n",
    "    for _ in range(num_times):\n",
    "        sum([i**2 for i in range(10000)])\n",
    "\n",
    "elapsed_time = timeit.timeit(lambda: waste_some_time(10), number=100)\n",
    "print(f\"Elapsed time: {elapsed_time:.6f} seconds\")"
   ]
  },
  {
   "cell_type": "code",
   "execution_count": 3,
   "id": "11459df0",
   "metadata": {},
   "outputs": [],
   "source": [
    "# The decorator approach is simpler and more straightforward for measuring the execution time of a single function, \n",
    "#while the timeit module is more powerful and suitable for benchmarking different functions or code snippets.\n",
    "#(The timeit module automatically repeats the execution of the function multiple times and calculates the average execution time. )"
   ]
  },
  {
   "cell_type": "code",
   "execution_count": 4,
   "id": "a8f2f708",
   "metadata": {},
   "outputs": [
    {
     "name": "stdout",
     "output_type": "stream",
     "text": [
      "Instance method can access and modify the instance's attributes.\n",
      "Static method\n",
      "6\n",
      "Class method\n",
      "1\n"
     ]
    }
   ],
   "source": [
    "#Q2\n",
    "# A-\n",
    "#Static and class methods are useful tools for encapsulating functionality that is related to a class itself, \n",
    "#rather than specific instances of the class. They can make code more modular, easier to read and maintain, and more flexible.\n",
    "\n",
    "#B-\n",
    "class MyClass:\n",
    "    \n",
    "    def __init__(self, x):\n",
    "        self.x = x  \n",
    "    \n",
    "    def instance_method(self):\n",
    "        print(\"Instance method can access and modify the instance's attributes.\")\n",
    "        self.x+= 1\n",
    "    \n",
    "    @staticmethod\n",
    "    def static_method(x,y,z):\n",
    "        print(\"Static method\")\n",
    "        return x+y+z\n",
    "    \n",
    "    @classmethod\n",
    "    def class_method(cls, integer):\n",
    "        print(\"Class method\")\n",
    "        x = integer\n",
    "        return cls(x)\n",
    "    \n",
    "zayn1 = MyClass(2)\n",
    "zayn1.instance_method()\n",
    "zayn2 = MyClass.static_method(1,2,3)\n",
    "print(zayn2)\n",
    "zayn3 = MyClass.class_method(1)\n",
    "print(zayn3.x)"
   ]
  },
  {
   "cell_type": "code",
   "execution_count": 5,
   "id": "0d7a852c",
   "metadata": {},
   "outputs": [
    {
     "name": "stdout",
     "output_type": "stream",
     "text": [
      "e\n"
     ]
    }
   ],
   "source": [
    "# Q3\n",
    "\n",
    "def find_first_non_repeated_char(string):\n",
    "   \n",
    "    string1 = string\n",
    "    string = string.upper()\n",
    "    result = ''\n",
    "   \n",
    "    occurrence = {}\n",
    "    for char in string:\n",
    "        if(char in occurrence.keys()):\n",
    "            occurrence[char] +=1\n",
    "        else:\n",
    "            occurrence[char] =1\n",
    "\n",
    "   \n",
    "    for char in string:\n",
    "        if occurrence[char] == 1:\n",
    "            result = char\n",
    "            break\n",
    "    \n",
    "    for char in string1:\n",
    "        if char == result.upper():\n",
    "            return result.upper()\n",
    "        elif char == result.lower():\n",
    "            return result.lower()\n",
    "    return None\n",
    "\n",
    "print(find_first_non_repeated_char(\"Name naMag\"))"
   ]
  },
  {
   "cell_type": "code",
   "execution_count": null,
   "id": "7fd905b3",
   "metadata": {},
   "outputs": [],
   "source": []
  }
 ],
 "metadata": {
  "kernelspec": {
   "display_name": "Python 3 (ipykernel)",
   "language": "python",
   "name": "python3"
  },
  "language_info": {
   "codemirror_mode": {
    "name": "ipython",
    "version": 3
   },
   "file_extension": ".py",
   "mimetype": "text/x-python",
   "name": "python",
   "nbconvert_exporter": "python",
   "pygments_lexer": "ipython3",
   "version": "3.9.13"
  }
 },
 "nbformat": 4,
 "nbformat_minor": 5
}
